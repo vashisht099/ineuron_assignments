{
 "cells": [
  {
   "cell_type": "markdown",
   "id": "637b47a5",
   "metadata": {},
   "source": [
    "## Programming Assignment_1\n",
    "-------------"
   ]
  },
  {
   "cell_type": "markdown",
   "id": "0c647dbe",
   "metadata": {},
   "source": [
    "### 1. Write a Python program to print \"Hello Python\"?"
   ]
  },
  {
   "cell_type": "code",
   "execution_count": 1,
   "id": "4f8b59d7",
   "metadata": {},
   "outputs": [
    {
     "name": "stdout",
     "output_type": "stream",
     "text": [
      "Hello Python\n"
     ]
    }
   ],
   "source": [
    "print('Hello Python')"
   ]
  },
  {
   "cell_type": "markdown",
   "id": "fc18a6cd",
   "metadata": {},
   "source": [
    "### 2. Write a Python program to do arithmetical operations addition and division.?\n"
   ]
  },
  {
   "cell_type": "code",
   "execution_count": 4,
   "id": "564ab8b1",
   "metadata": {},
   "outputs": [
    {
     "name": "stdout",
     "output_type": "stream",
     "text": [
      "Enter first Number: 4\n",
      "Enter second Number: 2\n",
      "a+b is 6\n",
      "a/b is 2.0\n"
     ]
    }
   ],
   "source": [
    "a = int(input('Enter first Number: '))\n",
    "b = int(input('Enter second Number: '))\n",
    "print('a+b is',a+b)\n",
    "print('a/b is', a/b)"
   ]
  },
  {
   "cell_type": "markdown",
   "id": "af6e2429",
   "metadata": {},
   "source": [
    "### 3. Write a Python program to find the area of a triangle?\n"
   ]
  },
  {
   "cell_type": "code",
   "execution_count": 6,
   "id": "92aff173",
   "metadata": {},
   "outputs": [
    {
     "name": "stdout",
     "output_type": "stream",
     "text": [
      "Enter sides: 12 12 12\n",
      "Area of the Triangle is: 62.353829072479584\n"
     ]
    }
   ],
   "source": [
    "#taking input for the sides of triangle\n",
    "side1,side2,side3 = input('Enter sides: ').split()\n",
    "side1 = int(side1)\n",
    "side2 = int(side2)\n",
    "side3 = int(side3)\n",
    "#in order to calculate area of a triangel we need to find the semi permeter\n",
    "semi_peri =  (side1+side2+side3)/2\n",
    "#area calculation\n",
    "area_tri = (semi_peri*(semi_peri-side1)*(semi_peri-side2)*(semi_peri-side3)) ** 0.5\n",
    "print('Area of the Triangle is:',area_tri)"
   ]
  },
  {
   "cell_type": "markdown",
   "id": "b8140061",
   "metadata": {},
   "source": [
    "### 4. Write a Python program to swap two variables?\n"
   ]
  },
  {
   "cell_type": "code",
   "execution_count": 28,
   "id": "8bf2857f",
   "metadata": {},
   "outputs": [
    {
     "name": "stdout",
     "output_type": "stream",
     "text": [
      "First Method\n",
      "Given numbers are: 12 34\n",
      "Swapped numbers are: 34 12\n"
     ]
    }
   ],
   "source": [
    "num1 = 12\n",
    "num2 = 34\n",
    "print('First Method')\n",
    "print('Given numbers are:',num1,num2)\n",
    "#way 1\n",
    "temp = num1\n",
    "num1 = num2\n",
    "num2 = temp\n",
    "print('Swapped numbers are:',num1,num2)"
   ]
  },
  {
   "cell_type": "code",
   "execution_count": 14,
   "id": "33f189a4",
   "metadata": {},
   "outputs": [
    {
     "name": "stdout",
     "output_type": "stream",
     "text": [
      "Swapped numbers are: 34 12\n"
     ]
    }
   ],
   "source": [
    "#the other way\n",
    "num1 = 12\n",
    "num2 = 34\n",
    "num1 = num1+num2\n",
    "num2 = num1-num2\n",
    "num1 = num1-num2\n",
    "print('Swapped numbers are:',num1,num2)"
   ]
  },
  {
   "cell_type": "markdown",
   "id": "3f8054c1",
   "metadata": {},
   "source": [
    "### 5. Write a Python program to generate a random number?\n"
   ]
  },
  {
   "cell_type": "code",
   "execution_count": 26,
   "id": "631b5350",
   "metadata": {},
   "outputs": [
    {
     "name": "stdout",
     "output_type": "stream",
     "text": [
      "4\n"
     ]
    }
   ],
   "source": [
    "#in order to generate a random number we need to import random module\n",
    "import random\n",
    "rand_num = random.randint(0,100)\n",
    "print(rand_num)"
   ]
  }
 ],
 "metadata": {
  "kernelspec": {
   "display_name": "Python 3 (ipykernel)",
   "language": "python",
   "name": "python3"
  },
  "language_info": {
   "codemirror_mode": {
    "name": "ipython",
    "version": 3
   },
   "file_extension": ".py",
   "mimetype": "text/x-python",
   "name": "python",
   "nbconvert_exporter": "python",
   "pygments_lexer": "ipython3",
   "version": "3.9.12"
  }
 },
 "nbformat": 4,
 "nbformat_minor": 5
}
