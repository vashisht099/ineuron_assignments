{
 "cells": [
  {
   "cell_type": "markdown",
   "id": "d1fd91b4",
   "metadata": {},
   "source": [
    "# Assignment 1"
   ]
  },
  {
   "cell_type": "markdown",
   "id": "95603cb0",
   "metadata": {},
   "source": [
    "1. What do you mean by cell in excel?\n",
    "- A cell in excel is defined as the intersection of row and the column."
   ]
  },
  {
   "cell_type": "markdown",
   "id": "eb0eacd0",
   "metadata": {},
   "source": [
    "2. How can you restrict someone from copying a cell from your worksheet?\n",
    "- To restrict someone from copying a cell, MS Excel provides 'PROTECT' option which is present under the Review menu. Under protect option we have sub options like protect workbook, protect sheet etc. Choosing one of the suc options we can set a password so that only those who have the password can make any changes in the excel sheet. "
   ]
  },
  {
   "cell_type": "markdown",
   "id": "e5851a13",
   "metadata": {},
   "source": [
    "3. How to move or copy the worksheet into another workbook?\n",
    "- In order to move or copy the worksheet into another workbook, we can right click on the worksheet name present at the left bottom, then clicking on 'MOVE OR COPY' option we will get to see 'To book' dropdown, from there we can choose the workbook which to move the worksheet to."
   ]
  },
  {
   "cell_type": "markdown",
   "id": "4cd59dd3",
   "metadata": {},
   "source": [
    "4. Which key is used as a shortcut for opening a new window document?\n",
    "- Ctrl + N shortcut key is used to open a new window document."
   ]
  },
  {
   "cell_type": "markdown",
   "id": "a15c2707",
   "metadata": {},
   "source": [
    "5. What are the things that we can notice after opening the Excel interface?\n",
    "- After opening the excel interface we get to see the rows and columns represented by number 1,2,3 etc and alphabets A,B,C etc respectively,a bar at the bottom containing the name of the worksheet, ribbon containing tabs like home tab, insert tab, data tab etc. Below the ribbon we notice  bar containing the name of the cell which is selected, a formula bar."
   ]
  },
  {
   "cell_type": "markdown",
   "id": "d9b1face",
   "metadata": {},
   "source": [
    "6. When to use a relative cell reference in excel?\n",
    "- Reference cell is used when we want to copy the same formula to another cell but with different cell adresses. For Example: I want to find the sum of numbers present in first column and second column respectively. We would write the formula for first column e.g =SUM(A1:A20) and then copy paste the same for second one. The formula copied to the second cell will be referencing the numbers present in second column e.g now the formula will be =SUM(B1:B20)."
   ]
  },
  {
   "cell_type": "code",
   "execution_count": null,
   "id": "76729166",
   "metadata": {},
   "outputs": [],
   "source": []
  }
 ],
 "metadata": {
  "kernelspec": {
   "display_name": "Python 3 (ipykernel)",
   "language": "python",
   "name": "python3"
  },
  "language_info": {
   "codemirror_mode": {
    "name": "ipython",
    "version": 3
   },
   "file_extension": ".py",
   "mimetype": "text/x-python",
   "name": "python",
   "nbconvert_exporter": "python",
   "pygments_lexer": "ipython3",
   "version": "3.9.12"
  }
 },
 "nbformat": 4,
 "nbformat_minor": 5
}
